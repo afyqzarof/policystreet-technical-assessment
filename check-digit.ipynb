{
 "cells": [
  {
   "cell_type": "code",
   "execution_count": 25,
   "metadata": {},
   "outputs": [],
   "source": [
    "import matplotlib.pyplot as plt\n",
    "import numpy as np\n",
    "import pandas as pd\n",
    "\n",
    "def check_digit(sequence):\n",
    "    step = 5\n",
    "    A = sum(int(sequence[i]) * 10 for i in range(0, len(sequence), step))\n",
    "    B = sum(int(sequence[i]) * 8 for i in range(1, len(sequence), step))\n",
    "    C = sum(int(sequence[i]) * 6 for i in range(2, len(sequence), step))\n",
    "    D = sum(int(sequence[i]) * 4 for i in range(3, len(sequence), step))\n",
    "    E = sum(int(sequence[i]) * 2 for i in range(4, len(sequence), step))\n",
    "\n",
    "    total_sum = A + B + C + D + E\n",
    "\n",
    "    while total_sum >= 10:\n",
    "        total_sum = sum(int(digit) for digit in str(total_sum))\n",
    "\n",
    "    return total_sum"
   ]
  },
  {
   "cell_type": "code",
   "execution_count": 26,
   "metadata": {},
   "outputs": [
    {
     "name": "stdout",
     "output_type": "stream",
     "text": [
      "7\n"
     ]
    }
   ],
   "source": [
    "print(check_digit(\"20191001187\"))"
   ]
  },
  {
   "cell_type": "code",
   "execution_count": 27,
   "metadata": {},
   "outputs": [
    {
     "name": "stdout",
     "output_type": "stream",
     "text": [
      "1\n"
     ]
    }
   ],
   "source": [
    "print(check_digit(\"726358263582647\"))"
   ]
  },
  {
   "cell_type": "code",
   "execution_count": 28,
   "metadata": {},
   "outputs": [],
   "source": [
    "numbers = np.arange(101, 890)\n",
    "check_digit_array = []\n",
    "\n",
    "for num in numbers:\n",
    "    result = check_digit(str(num))\n",
    "    check_digit_array.append(result)\n",
    "\n",
    "df = pd.DataFrame({'number':numbers,'result': check_digit_array})\n",
    "df.to_csv('check-digit.csv', index=False)  "
   ]
  },
  {
   "cell_type": "code",
   "execution_count": 44,
   "metadata": {},
   "outputs": [
    {
     "data": {
      "text/plain": [
       "Text(0, 0.5, 'check_digit(num)')"
      ]
     },
     "execution_count": 44,
     "metadata": {},
     "output_type": "execute_result"
    },
    {
     "data": {
      "image/png": "[encoded data removed]",
      "text/plain": [
       "<Figure size 432x288 with 1 Axes>"
      ]
     },
     "metadata": {
      "needs_background": "light"
     },
     "output_type": "display_data"
    }
   ],
   "source": [
    "plt.plot(numbers, check_digit_array,'.')\n",
    "\n",
    "plt.xlabel(\"num\")\n",
    "plt.ylabel(\"check_digit(num)\")\n"
   ]
  },
  {
   "cell_type": "code",
   "execution_count": 54,
   "metadata": {},
   "outputs": [
    {
     "name": "stdout",
     "output_type": "stream",
     "text": [
      "[89, 87, 87, 90, 87, 87, 90, 86, 86]\n"
     ]
    },
    {
     "data": {
      "image/png": "[encoded data removed]",
      "text/plain": [
       "<Figure size 432x288 with 1 Axes>"
      ]
     },
     "metadata": {
      "needs_background": "light"
     },
     "output_type": "display_data"
    },
    {
     "data": {
      "text/plain": [
       "<Figure size 432x288 with 0 Axes>"
      ]
     },
     "metadata": {},
     "output_type": "display_data"
    }
   ],
   "source": [
    "counts = []\n",
    "possible_values = np.arange(1, 10)\n",
    "\n",
    "for num in possible_values:\n",
    "  counts.append(check_digit_array.count(num))\n",
    "\n",
    "plt.bar(possible_values,counts)\n",
    "plt.xlabel(\"possible value\")\n",
    "plt.ylabel(\"count of value\")\n",
    "plt.figure(facecolor='yellow')\n",
    "\n",
    "print(counts)\n",
    "plt.show()"
   ]
  },
  {
   "cell_type": "code",
   "execution_count": null,
   "metadata": {},
   "outputs": [],
   "source": []
  }
 ],
 "metadata": {
  "kernelspec": {
   "display_name": "base",
   "language": "python",
   "name": "python3"
  },
  "language_info": {
   "codemirror_mode": {
    "name": "ipython",
    "version": 3
   },
   "file_extension": ".py",
   "mimetype": "text/x-python",
   "name": "python",
   "nbconvert_exporter": "python",
   "pygments_lexer": "ipython3",
   "version": "3.8.8"
  }
 },
 "nbformat": 4,
 "nbformat_minor": 2
}
