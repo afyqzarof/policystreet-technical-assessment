{
 "cells": [
  {
   "cell_type": "code",
   "execution_count": 124,
   "metadata": {},
   "outputs": [
    {
     "name": "stdout",
     "output_type": "stream",
     "text": [
      "['A', 'B', 'C', 'D', 'E', 'F', 'G', 'H', 'I', 'J']\n"
     ]
    }
   ],
   "source": [
    "def string_to_array(s):\n",
    "    return [c for c in s]\n",
    "\n",
    "\n",
    "char = \"ABCDEFGHIJ\"\n",
    "char_array = string_to_array(char)\n",
    "print(char_array)"
   ]
  },
  {
   "cell_type": "code",
   "execution_count": 191,
   "metadata": {},
   "outputs": [],
   "source": [
    "def cyclic_sort(input, ordering):\n",
    "    result = []\n",
    "    array_size = len(input)\n",
    "\n",
    "    for i in range(0, array_size):\n",
    "\n",
    "        selected_value_index = ordering - 1\n",
    "        if selected_value_index >= len(input):\n",
    "            selected_value_index = (ordering % len(input)) - 1\n",
    "        if selected_value_index < 0:\n",
    "            selected_value_index = 0\n",
    "\n",
    "        selected_value = input[selected_value_index]\n",
    "\n",
    "        result.append(selected_value)\n",
    "\n",
    "        input = input[selected_value_index + 1 :] + input[0:selected_value_index]\n",
    "\n",
    "    three_array = []\n",
    "    for i in range(0, array_size, 3):\n",
    "        group_of_three = result[i : i + 3]\n",
    "        three_array.append(\"\".join(group_of_three))\n",
    "\n",
    "    return \"-\".join(three_array)"
   ]
  },
  {
   "cell_type": "code",
   "execution_count": 192,
   "metadata": {},
   "outputs": [
    {
     "name": "stdout",
     "output_type": "stream",
     "text": [
      "GDB-ACF-JEH-I\n"
     ]
    }
   ],
   "source": [
    "print(cyclic_sort(char_array, 7))\n",
    "# print(cyclic_sort([\"A\",\"B\",\"C\"], 3))"
   ]
  },
  {
   "cell_type": "code",
   "execution_count": 193,
   "metadata": {},
   "outputs": [
    {
     "name": "stdout",
     "output_type": "stream",
     "text": [
      "D7D-79H-2GH-44J-FK1\n"
     ]
    }
   ],
   "source": [
    "question_one_str = \"1JD7H47FH2KD9G4\"\n",
    "question_one_array = string_to_array(question_one_str)\n",
    "# print(question_one_array)\n",
    "print(cyclic_sort(question_one_array, 18))"
   ]
  },
  {
   "cell_type": "code",
   "execution_count": 297,
   "metadata": {},
   "outputs": [],
   "source": [
    "def cyclic_sort_to_array(input, ordering):\n",
    "    result = []\n",
    "    array_size = len(input)\n",
    "\n",
    "    for i in range(0, array_size):\n",
    "\n",
    "        selected_value_index = ordering - 1\n",
    "        if selected_value_index >= len(input):\n",
    "            selected_value_index = (ordering % len(input)) - 1\n",
    "        if selected_value_index < 0:\n",
    "            selected_value_index = 0\n",
    "\n",
    "        selected_value = input[selected_value_index]\n",
    "\n",
    "        result.append(selected_value)\n",
    "\n",
    "        input = input[selected_value_index + 1 :] + input[0:selected_value_index]\n",
    "    return result\n",
    "\n",
    "def format_from_dashed(str_input):\n",
    "    result = string_to_array(\"\".join(str_input.split(\"-\")))\n",
    "    # print(result)\n",
    "    return result\n",
    "\n",
    "\n",
    "\n",
    "def cyclic_sort_reverse(input, ordering):\n",
    "    formatted_input = format_from_dashed(input)\n",
    "\n",
    "    indexes = []\n",
    "    result = []\n",
    "    for n in range(0, len(formatted_input)):\n",
    "        indexes.append(str(n))\n",
    "        result.append(None)\n",
    "\n",
    "    indexes_in_order = cyclic_sort_to_array(indexes, ordering)\n",
    "\n",
    "   \n",
    "    for i in range(0, len(indexes_in_order)):\n",
    "        index = int(indexes_in_order[i])\n",
    "        # print(index, formatted_input[index])\n",
    "        result[index] = formatted_input[i]\n",
    "\n",
    "    return \"\".join(result)"
   ]
  },
  {
   "cell_type": "code",
   "execution_count": 298,
   "metadata": {},
   "outputs": [
    {
     "data": {
      "text/plain": [
       "'ABCDEFGHIJ'"
      ]
     },
     "execution_count": 298,
     "metadata": {},
     "output_type": "execute_result"
    }
   ],
   "source": [
    "cyclic_sort_reverse(\"GDB-ACF-JEH-I\", 7)"
   ]
  },
  {
   "cell_type": "code",
   "execution_count": 299,
   "metadata": {},
   "outputs": [
    {
     "data": {
      "text/plain": [
       "'1JD7H47FH2KD9G4'"
      ]
     },
     "execution_count": 299,
     "metadata": {},
     "output_type": "execute_result"
    }
   ],
   "source": [
    "cyclic_sort_reverse(\"D7D-79H-2GH-44J-FK1\", 18) #1JD7H47FH2KD9G4"
   ]
  },
  {
   "cell_type": "code",
   "execution_count": 307,
   "metadata": {},
   "outputs": [
    {
     "data": {
      "text/plain": [
       "'Congratulations! If you are able to read this message means you managed to complete the advance task for this test.'"
      ]
     },
     "execution_count": 307,
     "metadata": {},
     "output_type": "execute_result"
    }
   ],
   "source": [
    "msg = \"ora-gmm-vro-!bi-n h-ktn-as - dt-aoe-md - t -typ- sI- ec-e. - ue-oa - l -lts- sf-mea-tda-ti -oia-aau-stg-ees-es -tno- hf-rha-Cge-cne- ta-tnr-lau-ey -oeo-s\"\n",
    "cyclic_sort_reverse(msg, 13)"
   ]
  },
  {
   "cell_type": "code",
   "execution_count": 308,
   "metadata": {},
   "outputs": [
    {
     "data": {
      "text/plain": [
       "'ora-gmm-vro-!bi-n h-ktn-as - dt-aoe-md - t -typ- sI- ec-e. - ue-oa - l -lts- sf-mea-tda-ti -oia-aau-stg-ees-es -tno- hf-rha-Cge-cne- ta-tnr-lau-ey -oeo-s'"
      ]
     },
     "execution_count": 308,
     "metadata": {},
     "output_type": "execute_result"
    }
   ],
   "source": [
    "cyclic_sort(\"Congratulations! If you are able to read this message means you managed to complete the advance task for this test.\", 13)"
   ]
  },
  {
   "cell_type": "code",
   "execution_count": null,
   "metadata": {},
   "outputs": [],
   "source": []
  }
 ],
 "metadata": {
  "kernelspec": {
   "display_name": "base",
   "language": "python",
   "name": "python3"
  },
  "language_info": {
   "codemirror_mode": {
    "name": "ipython",
    "version": 3
   },
   "file_extension": ".py",
   "mimetype": "text/x-python",
   "name": "python",
   "nbconvert_exporter": "python",
   "pygments_lexer": "ipython3",
   "version": "3.8.8"
  }
 },
 "nbformat": 4,
 "nbformat_minor": 2
}
